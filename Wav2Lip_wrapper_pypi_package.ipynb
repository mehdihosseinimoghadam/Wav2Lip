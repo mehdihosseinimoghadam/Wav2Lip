{
  "nbformat": 4,
  "nbformat_minor": 0,
  "metadata": {
    "colab": {
      "name": "Wav2Lip wrapper pypi package.ipynb",
      "provenance": [],
      "authorship_tag": "ABX9TyOH63sV7x6eeq66Uu/iizN3",
      "include_colab_link": true
    },
    "kernelspec": {
      "name": "python3",
      "display_name": "Python 3"
    },
    "language_info": {
      "name": "python"
    }
  },
  "cells": [
    {
      "cell_type": "markdown",
      "metadata": {
        "id": "view-in-github",
        "colab_type": "text"
      },
      "source": [
        "<a href=\"https://colab.research.google.com/github/mehdihosseinimoghadam/Wav2Lip/blob/master/Wav2Lip_wrapper_pypi_package.ipynb\" target=\"_parent\"><img src=\"https://colab.research.google.com/assets/colab-badge.svg\" alt=\"Open In Colab\"/></a>"
      ]
    },
    {
      "cell_type": "code",
      "execution_count": null,
      "metadata": {
        "id": "g5qt6Hf4va9i"
      },
      "outputs": [],
      "source": [
        "pip install Wav2Lipy==0.0.1"
      ]
    },
    {
      "cell_type": "code",
      "source": [
        "!wget \"https://www.adrianbulat.com/downloads/python-fan/s3fd-619a316812.pth\" -O \"/usr/local/lib/python3.7/dist-packages/Wav2Lip/face_detection/detection/sfd/gfs3fd.pth\""
      ],
      "metadata": {
        "id": "GBn-ImWAwGJP"
      },
      "execution_count": null,
      "outputs": []
    },
    {
      "cell_type": "markdown",
      "source": [
        "## Code for Wav2Lip wrapper pypi package "
      ],
      "metadata": {
        "id": "F2Wmf8Hn_p6S"
      }
    },
    {
      "cell_type": "code",
      "source": [
        "!gdown https://drive.google.com/uc?id=1jQOJInh8cDj2mrbUgcQxhCc7rpAgyV1-"
      ],
      "metadata": {
        "id": "Q22002_wwL3E"
      },
      "execution_count": null,
      "outputs": []
    },
    {
      "cell_type": "code",
      "source": [
        "!mkdir /usr/local/lib/python3.7/dist-packages/Wav2Lip/results\n",
        "!mkdir /usr/local/lib/python3.7/dist-packages/Wav2Lip/temp\n",
        "!mkdir /usr/local/lib/python3.7/dist-packages/Wav2Lip/checkpoints"
      ],
      "metadata": {
        "id": "amv-YQK5wROU"
      },
      "execution_count": 1,
      "outputs": []
    },
    {
      "cell_type": "code",
      "source": [
        "!mv /content/wav2lip_gan.pth /usr/local/lib/python3.7/dist-packages/Wav2Lip/checkpoints/"
      ],
      "metadata": {
        "id": "4fUVTjykx3Mc"
      },
      "execution_count": 2,
      "outputs": []
    },
    {
      "cell_type": "code",
      "source": [
        "cd /usr/local/lib/python3.7/dist-packages/Wav2Lip"
      ],
      "metadata": {
        "id": "4E-SNWSC0ast"
      },
      "execution_count": null,
      "outputs": []
    },
    {
      "cell_type": "code",
      "source": [
        "from Wav2Lip.wrapper_app import main"
      ],
      "metadata": {
        "id": "GaISgQk0XeE9"
      },
      "execution_count": 10,
      "outputs": []
    },
    {
      "cell_type": "code",
      "source": [
        "main(\"/content/LJ037-0171.wav\",\"/content/me.jpeg\")"
      ],
      "metadata": {
        "id": "O-73sNVZX6fZ"
      },
      "execution_count": null,
      "outputs": []
    },
    {
      "cell_type": "code",
      "source": [
        "from IPython.display import HTML\n",
        "from base64 import b64encode\n",
        "mp4 = open('/usr/local/lib/python3.7/dist-packages/Wav2Lip/results/result_voice.mp4','rb').read()\n",
        "data_url = \"data:video/mp4;base64,\" + b64encode(mp4).decode()\n",
        "HTML(\"\"\"\n",
        "<video width=400 controls>\n",
        "      <source src=\"%s\" type=\"video/mp4\">\n",
        "</video>\n",
        "\"\"\" % data_url)"
      ],
      "metadata": {
        "id": "rFEGvpy1YMAi"
      },
      "execution_count": null,
      "outputs": []
    }
  ]
}
